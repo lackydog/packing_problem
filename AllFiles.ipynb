{
 "cells": [
  {
   "cell_type": "code",
   "execution_count": 4,
   "metadata": {
    "collapsed": false
   },
   "outputs": [],
   "source": [
    "from pandas import DataFrame, read_csv\n",
    "import os\n",
    "from os import listdir\n",
    "from os.path import isfile, join\n",
    "from multiprocessing import Pool as ThreadPool\n",
    "import math\n",
    "import numpy as np\n",
    "import random\n",
    "import copy\n",
    "from numbapro import vectorize, cuda\n",
    "from numbapro import void, uint8 , uint32, uint64, int32, int64, float32, float64, f8"
   ]
  },
  {
   "cell_type": "code",
   "execution_count": 5,
   "metadata": {
    "collapsed": true
   },
   "outputs": [],
   "source": [
    "def loadData(file_name):\n",
    "    data = read_csv(os.getcwd()+'/'+file_name, sep=',',header=1,index_col=False)\n",
    "    return data"
   ]
  },
  {
   "cell_type": "code",
   "execution_count": 6,
   "metadata": {
    "collapsed": true
   },
   "outputs": [],
   "source": [
    "class Box():\n",
    "    #конструктор создает коробку с SKU и начальными параметрами. Изначальная ротация = 3\n",
    "    def __init__(self, SKU, length, width, height, weight, strength, aisle, caustic):\n",
    "        self.SKU = SKU\n",
    "        self.size = np.array([length,width,height])\n",
    "        self.coords = self.size\n",
    "        self.rotation = 3\n",
    "        self.weight = weight\n",
    "        self.strength = strength\n",
    "        self.aisle = aisle\n",
    "        self.caustic = caustic\n",
    "        self.attPoint = np.array([-1,-1,-1])\n",
    "        self.farCorner = np.array([-1,-1,-1])\n",
    "        \n",
    "    #private функция возвращает матрицу поворота 1-6\n",
    "    def __getRotationMatrix(self, rotation):\n",
    "        if rotation == 1:\n",
    "            return np.array([[1,0,0],[0,0,1],[0,1,0]])\n",
    "        elif rotation == 2:\n",
    "            return np.array([[0,0,1],[1,0,0],[0,1,0]])\n",
    "        elif rotation == 3:\n",
    "            return np.array([[1,0,0],[0,1,0],[0,0,1]])\n",
    "        elif rotation == 4:\n",
    "            return np.array([[0,0,1],[0,1,0],[1,0,0]])\n",
    "        elif rotation == 5:\n",
    "            return np.array([[0,1,0],[1,0,0],[0,0,1]])\n",
    "        elif rotation == 6:\n",
    "            return np.array([[0,1,0],[0,0,1],[1,0,0]])\n",
    "    \n",
    "    #метод позволяющий повернуть коробку в положение 1-6 (3 положение по умолчанию)\n",
    "    def setRotation(self, rotation):\n",
    "        self.rotation = rotation\n",
    "        self.coords = np.dot(self.size, self.__getRotationMatrix(rotation))\n",
    "        self.farCorner = self.attPoint+self.coords\n",
    "    \n",
    "    #вернуть реальные координаты в свой СО\n",
    "    def getCoords(self):\n",
    "        return self.coords\n",
    "    \n",
    "    #вернуть SKU\n",
    "    def getSKU(self):\n",
    "        return self.SKU\n",
    "    \n",
    "    #вернуть длину (x по умолчанию)\n",
    "    def getLength(self):\n",
    "        return self.size[0]\n",
    "    \n",
    "    #вернуть ширину (y по умолчанию)\n",
    "    def getWidth(self):\n",
    "        return self.size[1]\n",
    "    \n",
    "    #вернуть высоту (z по умолчанию)\n",
    "    def getHeight(self):\n",
    "        return self.size[2]\n",
    "    \n",
    "    #вернуть свои исходные размеры\n",
    "    def getSize(self):\n",
    "        return list(self.size)\n",
    "    \n",
    "    #вернуть свое текущее положение\n",
    "    def getRotation(self):\n",
    "        return self.rotation\n",
    "    \n",
    "    def getWeigth(self):\n",
    "        return self.weight\n",
    "    \n",
    "    def getStrength(self):\n",
    "        return self.strength\n",
    "    \n",
    "    def getAisle(self):\n",
    "        return self.aisle\n",
    "    \n",
    "    def getCaustic(self):\n",
    "        return self.caustic\n",
    "    \n",
    "    def __repr__(self):\n",
    "        return 'Box(SKU=%s, rot=%s, coords=%s, attPoint=%s, farCorner=%s)' % (self.SKU, self.rotation, self.coords,self.attPoint, self.farCorner)\n",
    "    \n",
    "    def displace(self, dcoords):\n",
    "        self.attPoint = np.array(dcoords)\n",
    "        self.farCorner = self.attPoint+self.coords\n",
    "        \n",
    "    def getAttPoints(self):\n",
    "        p1 = self.attPoint+self.coords*[1,0,0]\n",
    "        p2 = self.attPoint+self.coords*[0,1,0]\n",
    "        p3 = self.attPoint+self.coords*[1,1,0]\n",
    "        p4 = self.attPoint+self.coords*[0,0,1]\n",
    "        x = list([list(p1),list(p2),list(p3),list(p4)])\n",
    "        return x\n",
    "    \n",
    "    def getAttPoint(self):\n",
    "        return list(self.attPoint)\n",
    "    \n",
    "    def getFarCorner(self):\n",
    "        return list(self.farCorner)\n",
    "    \n",
    "    def getBottomCenterMass(self):\n",
    "        return ((self.farCorner[0]+self.attPoint[0]) / 2.0 , (self.farCorner[1]+self.attPoint[1]) / 2.0, self.attPoint[2])\n",
    "    \n",
    "    def getMaxZ(self):\n",
    "        return self.farCorner[2]\n",
    "    \n",
    "    def getVolume(self):\n",
    "        return self.size[0]*self.size[1]*self.size[2]\n",
    "    \n",
    "    def getUpperPlane(self):\n",
    "        return ((self.attPoint[0],self.attPoint[1], self.farCorner[2]), (self.farCorner[0],self.farCorner[1], self.farCorner[2]))\n",
    "    \n",
    "    def getPointsToCheck(self):\n",
    "        #не использовать, вместо него проверка центра масс\n",
    "        return ((self.attPoint[0], self.attPoint[1], self.attPoint[2]),\n",
    "                (self.attPoint[0], self.farCorner[1], self.attPoint[2]),\n",
    "                (self.farCorner[0], self.farCorner[1], self.attPoint[2]),\n",
    "                (self.farCorner[0], self.attPoint[1], self.attPoint[2]))\n",
    "    \n",
    "    def getAnswer(self):\n",
    "        return [self.SKU, \n",
    "                self.attPoint[0], self.attPoint[1], self.attPoint[2], \n",
    "                self.farCorner[0], self.farCorner[1], self.farCorner[2],\n",
    "                self.aisle,\n",
    "                self.weight\n",
    "               ]\n",
    "    \n",
    "    def __eq__(self, other):\n",
    "        \"\"\"Override the default Equals behavior\"\"\"\n",
    "        if (self.getSKU() == other.getSKU() and\n",
    "           self.getRotation() == other.getRotation() and\n",
    "           self.getAttPoint() == other.getAttPoint() and\n",
    "           self.getSize() == other.getSize()):\n",
    "            return True\n",
    "        else:\n",
    "            return False\n",
    "    \n",
    "    def __ne__(self, other):\n",
    "        if  not (self.getSKU() == other.getSKU() and\n",
    "           self.getRotation() == other.getRotation() and\n",
    "           self.getAttPoint() == other.getAttPoint() and\n",
    "           self.getSize() == other.getSize()):\n",
    "            return True\n",
    "        else:\n",
    "            return False"
   ]
  },
  {
   "cell_type": "code",
   "execution_count": 7,
   "metadata": {
    "collapsed": true
   },
   "outputs": [],
   "source": [
    "def getSortedAttPoints(attpoints):\n",
    "    x = attpoints[:]\n",
    "    def point_is_better(p1, p2):\n",
    "        def getDistance(point):\n",
    "            return math.sqrt(point[0] ** 2 + point[1] ** 2 + point[2] ** 2)\n",
    "\n",
    "        def evristics(p1,p2):\n",
    "            if p1[0]<p2[0]:\n",
    "                return 1\n",
    "            else:\n",
    "                return -1\n",
    "\n",
    "        if p1[2] < p2[2]:\n",
    "            return 1\n",
    "        elif p1[2] > p2[2]:\n",
    "            return -1\n",
    "        elif getDistance(p2)>getDistance(p1):\n",
    "            return 1\n",
    "        elif getDistance(p1)>getDistance(p2):\n",
    "            return -1\n",
    "        else:\n",
    "            return evristics(p1,p2)\n",
    "    x.sort(cmp=point_is_better, reverse=True)\n",
    "    return x\n",
    "    "
   ]
  },
  {
   "cell_type": "code",
   "execution_count": 8,
   "metadata": {
    "collapsed": false
   },
   "outputs": [],
   "source": [
    "#Проверка на пересечение объемов\n",
    "def theyMerge(b1,b2):\n",
    "    def getOverlap(a, b):\n",
    "        return max(0, min(a[1], b[1]) - max(a[0], b[0]))\n",
    "\n",
    "    def plane1(b1,b2):\n",
    "        l_x_1 = (b1.attPoint[0], b1.farCorner[0])\n",
    "        l_x_2 = (b2.attPoint[0], b2.farCorner[0])\n",
    "        l_z_1 = (b1.attPoint[2], b1.farCorner[2])\n",
    "        l_z_2 = (b2.attPoint[2], b2.farCorner[2])\n",
    "\n",
    "        return getOverlap(l_x_1, l_x_2)*getOverlap(l_z_1, l_z_2)\n",
    "\n",
    "    def plane2(b1,b2):\n",
    "        l_x_1 = (b1.attPoint[0], b1.farCorner[0])\n",
    "        l_x_2 = (b2.attPoint[0], b2.farCorner[0])\n",
    "        l_y_1 = (b1.attPoint[1], b1.farCorner[1])\n",
    "        l_y_2 = (b2.attPoint[1], b2.farCorner[1])\n",
    "        #print l_x_1, l_x_2\n",
    "        #print l_y_1, l_y_2\n",
    "        return getOverlap(l_x_1, l_x_2)*getOverlap(l_y_1, l_y_2)\n",
    "\n",
    "    def plane3(b1,b2):\n",
    "        l_z_1 = (b1.attPoint[2], b1.farCorner[2])\n",
    "        l_z_2 = (b2.attPoint[2], b2.farCorner[2])\n",
    "        l_y_1 = (b1.attPoint[1], b1.farCorner[1])\n",
    "        l_y_2 = (b2.attPoint[1], b2.farCorner[1])\n",
    "        #print l_z_1, l_z_2\n",
    "        #print l_y_1, l_y_2\n",
    "        #tuple sintead of list, mb faster\n",
    "        return getOverlap(l_z_1, l_z_2)*getOverlap(l_y_1, l_y_2)\n",
    "    \n",
    "    if plane1(b1,b2)*plane2(b1,b2) > 0 or plane2(b1,b2)*plane3(b1,b2) > 0 or plane1(b1,b2)*plane3(b1,b2)>0:\n",
    "        return True\n",
    "    else:\n",
    "        return False"
   ]
  },
  {
   "cell_type": "code",
   "execution_count": 9,
   "metadata": {
    "collapsed": true
   },
   "outputs": [],
   "source": [
    "def getInitialList(data):\n",
    "    ls = []\n",
    "    for each in range(len(data)):\n",
    "        count = data[\"Quantity\"][each]\n",
    "        while count > 0:\n",
    "            ls.append(Box(data['SKU'][each], data['Length'][each], data['Width'][each], data['Height'][each], data['Weight'][each],data['Strength'][each],data['Aisle'][each],data['Caustic'][each]))\n",
    "            count-=1\n",
    "    return ls"
   ]
  },
  {
   "cell_type": "code",
   "execution_count": 10,
   "metadata": {
    "collapsed": false
   },
   "outputs": [],
   "source": [
    "\n",
    "def pointBelongs(point, plane):\n",
    "    if (point[2] == plane[0][2] and\n",
    "        point[0] <= plane[1][0] and\n",
    "        point[0] >= plane[0][0] and\n",
    "        point[1] <= plane[1][1] and\n",
    "        point[1] >= plane[0][1]):\n",
    "        return True\n",
    "    else:\n",
    "        return False  "
   ]
  },
  {
   "cell_type": "code",
   "execution_count": 11,
   "metadata": {
    "collapsed": true
   },
   "outputs": [],
   "source": [
    "def getMaxZ(chromosome):\n",
    "        max_z = chromosome[0].farCorner[1] #максимальная высота первого блока дальней точки\n",
    "        for each in chromosome[1:]:\n",
    "            if each.getMaxZ()>max_z:\n",
    "                max_z = each.getMaxZ()\n",
    "        return max_z"
   ]
  },
  {
   "cell_type": "code",
   "execution_count": 12,
   "metadata": {
    "collapsed": true
   },
   "outputs": [],
   "source": [
    "def getPercolation(chromosome):\n",
    "        sum_volume = 0.\n",
    "        for each in chromosome:\n",
    "            sum_volume += each.getVolume()\n",
    "            \n",
    "        max_volume = getMaxZ(chromosome) * pallet_size[0] * pallet_size[1]\n",
    "        return sum_volume / max_volume"
   ]
  },
  {
   "cell_type": "code",
   "execution_count": 13,
   "metadata": {
    "collapsed": true
   },
   "outputs": [],
   "source": [
    "def fitness_function(chromosome):\n",
    "    return getPercolation(chromosome)  "
   ]
  },
  {
   "cell_type": "code",
   "execution_count": 14,
   "metadata": {
    "collapsed": true
   },
   "outputs": [],
   "source": [
    "def decode(chromosome):\n",
    "    #изначально только 0 0 0 точка\n",
    "    attPoints = [[0,0,0]]\n",
    "    chromosome[0].displace(attPoints.pop(0)) #ставим первый элемент в угол, удаляем точку\n",
    "    attPoints += chromosome[0].getAttPoints() #добавляем точки присоединения\n",
    "    attPoints = getSortedAttPoints(attPoints) #сортируем согласно правилам точки\n",
    "    status = [0, 0, 0]\n",
    "    \n",
    "    for i in range(1,len(chromosome)):\n",
    "        displaced = False\n",
    "        for p_num, point in enumerate(attPoints):\n",
    "        #берем следующую точку и блок, ставим его и проверяем что:\n",
    "            chromosome[i].displace(point)\n",
    "\n",
    "            #центр масс не свисает\n",
    "            \n",
    "            if chromosome[i].getAttPoint()[2] == 0: #ака лежит на полу то все ок:\n",
    "                itDoesntHang = True\n",
    "            else:\n",
    "                for j in range(i):\n",
    "                    itDoesntHang = False\n",
    "                    if pointBelongs(chromosome[i].getBottomCenterMass(), chromosome[j].getUpperPlane()):\n",
    "                        itDoesntHang = True\n",
    "                        break;\n",
    "\n",
    "            #не выходит за границы данной плоскости палеты [0] (x) < pallet_x [3] && (z) < pallet_z\n",
    "            if chromosome[i].farCorner[0] <= pallet_size[0] and chromosome[i].farCorner[1] <= pallet_size[1]:\n",
    "                itFits = True\n",
    "            else:\n",
    "                itFits = False\n",
    "\n",
    "            #блоки не налагаются друг на друга в объеме\n",
    "            theyDontMerge = True\n",
    "            for j in range(i):\n",
    "                if theyMerge(chromosome[i], chromosome[j]):\n",
    "                    theyDontMerge = False\n",
    "                    break\n",
    "\n",
    "            if theyDontMerge and itFits and itDoesntHang:\n",
    "                #print 'YAY'\n",
    "                attPoints.pop(p_num)\n",
    "                displaced = True\n",
    "                attPoints += [x for x in chromosome[i].getAttPoints() if x not in attPoints] #добавляем точки присоединения\n",
    "                attPoints = getSortedAttPoints(attPoints) #сортируем согласно правилам точки\n",
    "                break\n",
    "        if not displaced: #Houston we have problems here\n",
    "            return None\n",
    "    return chromosome#success\n",
    "            #print(attPoints)"
   ]
  },
  {
   "cell_type": "code",
   "execution_count": 15,
   "metadata": {
    "collapsed": true
   },
   "outputs": [],
   "source": [
    "def shuffle(chromosome, beta):\n",
    "    x = copy.deepcopy(chromosome)\n",
    "    for i in range(len(chromosome)):\n",
    "        x.append(x.pop(random.randint(0, len(chromosome)-1)))\n",
    "        if random.random() < beta:\n",
    "            x[random.randint(0, len(chromosome)-1)].setRotation(random.randint(1,6))\n",
    "    return x"
   ]
  },
  {
   "cell_type": "code",
   "execution_count": 16,
   "metadata": {
    "collapsed": true
   },
   "outputs": [],
   "source": [
    "#функция для сортировки популяции\n",
    "def compare(chr1, chr2):\n",
    "    return int((fitness_function(chr2)*1000-fitness_function(chr1)*1000))"
   ]
  },
  {
   "cell_type": "code",
   "execution_count": 17,
   "metadata": {
    "collapsed": true
   },
   "outputs": [],
   "source": [
    "def crossover(chromosome1, chromosome2):\n",
    "    point = random.randint(1,len(chromosome1)-2)\n",
    "    kid1 = copy.deepcopy(chromosome1[:point])\n",
    "    to_add = copy.deepcopy(chromosome2[:])\n",
    "    kid2 = []\n",
    "    for each in kid1:\n",
    "        for other in to_add:\n",
    "            if each.getSKU() == other.getSKU():\n",
    "                kid2.append(other)\n",
    "                to_add.remove(other)\n",
    "                break\n",
    "    kid1 += to_add\n",
    "    kid2 += copy.deepcopy(chromosome1[point:])\n",
    "\n",
    "    return [kid1, kid2]\n",
    "        "
   ]
  },
  {
   "cell_type": "code",
   "execution_count": 18,
   "metadata": {
    "collapsed": true
   },
   "outputs": [],
   "source": [
    "def mutation(chromosome, alpha):\n",
    "    x = copy.deepcopy(chromosome[:])\n",
    "    prob = random.random()\n",
    "    if prob < alpha:\n",
    "        x[random.randint(0, len(chromosome)-1)].setRotation(random.randint(1,6))\n",
    "    return x"
   ]
  },
  {
   "cell_type": "code",
   "execution_count": 19,
   "metadata": {
    "collapsed": true
   },
   "outputs": [],
   "source": [
    "def getNewCHR():\n",
    "    initialList = getInitialList(data)\n",
    "    temp = shuffle(initialList, initial_mutation)\n",
    "    return temp"
   ]
  },
  {
   "cell_type": "code",
   "execution_count": 20,
   "metadata": {
    "collapsed": true
   },
   "outputs": [],
   "source": [
    "##### настройки\n",
    "pallet_size = (1200,800) #z,x: y - верх.\n",
    "population_size = 10\n",
    "initial_mutation = 0.3\n",
    "max_deep = 20"
   ]
  },
  {
   "cell_type": "code",
   "execution_count": null,
   "metadata": {
    "collapsed": false
   },
   "outputs": [
    {
     "data": {
      "text/plain": [
       "['2.csv', '3.csv', '4.csv', '5.csv']"
      ]
     },
     "execution_count": 21,
     "metadata": {},
     "output_type": "execute_result"
    }
   ],
   "source": [
    "file_list = [f for f in listdir(os.getcwd()) if isfile(f) and ('csv' in f)]\n",
    "file_list"
   ]
  },
  {
   "cell_type": "code",
   "execution_count": null,
   "metadata": {
    "collapsed": false
   },
   "outputs": [
    {
     "name": "stdout",
     "output_type": "stream",
     "text": [
      "Файл # 0 ( 2.csv )\n"
     ]
    }
   ],
   "source": [
    "file_list = [f for f in listdir(os.getcwd()) if isfile(f) and ('csv' in f)]\n",
    "percolations = []\n",
    "for i, file_ in enumerate(file_list):\n",
    "    print \"Файл #\",i,\"(\",file_,\")\"\n",
    "    data = loadData(file_)\n",
    "    #делаем начальную популяцию без клонов\n",
    "    population = []\n",
    "    initialList = getInitialList(data)\n",
    "    while len(population) < population_size:\n",
    "        new_population = []\n",
    "        while len(new_population) < population_size:\n",
    "            new_population.append(getNewCHR())\n",
    "        pool = ThreadPool()\n",
    "        ans = list(pool.map(decode, new_population))\n",
    "        pool.close()\n",
    "        pool.join()\n",
    "\n",
    "        for i, done in enumerate(ans):\n",
    "            if done and len(population) < population_size and done not in population:\n",
    "                population.append(ans[i])\n",
    "\n",
    "    population.sort(cmp=compare)\n",
    "    print \"начальная популяция:\"\n",
    "    for each in population:\n",
    "        print fitness_function(each)\n",
    "    \n",
    "    count = 0\n",
    "    while count < max_deep and fitness_function(population[0]) < 0.9:\n",
    "        count += 1\n",
    "        new_population = []\n",
    "        for i in range(1,population_size):\n",
    "            new_population += crossover(population[0], population[i])\n",
    "\n",
    "        rand_int1 = random.randint(1,len(population)-1)\n",
    "        rand_int2 = random.randint(1,len(population)-1)\n",
    "        while rand_int1 == rand_int2:\n",
    "            rand_int1 = random.randint(0,len(population)-1)\n",
    "            rand_int2 = random.randint(0,len(population)-1)\n",
    "\n",
    "        new_population += crossover(population[rand_int1], population[rand_int2])\n",
    "        rand_int1 = random.randint(1,len(population)-1)\n",
    "        new_population.append(mutation(population[rand_int1], initial_mutation))\n",
    "        rand_int1 = random.randint(1,len(population)-1)\n",
    "        new_population.append(shuffle(population[rand_int1], initial_mutation))\n",
    "\n",
    "        for x in range(2):\n",
    "            new_population.append(getNewCHR())\n",
    "\n",
    "        pool = ThreadPool()\n",
    "        ans = list(pool.map(decode, new_population))\n",
    "        pool.close()\n",
    "        pool.join()\n",
    "\n",
    "        population += [x for x in ans if x and x not in population]\n",
    "\n",
    "        population.sort(cmp = compare)\n",
    "\n",
    "        population = population[:population_size]\n",
    "        print \"поколение\", count\n",
    "        \n",
    "    print \"лучшее\", fitness_function(population[0])\n",
    "    percolations.append(fitness_function(population[0]))\n",
    "    chromosome = population[0]\n",
    "    \n",
    "    packed_items = []\n",
    "    total_weight = 0\n",
    "    for each in chromosome:\n",
    "        packed_items.append(each.getAnswer())\n",
    "        total_weight += each.getWeigth()\n",
    "    answer = DataFrame(packed_items)\n",
    "    answer.columns = ['SKU','x_1^i','y_1^i','z_1^i','x_2^i','y_2^i','z_2^i','Aisle','Weight']\n",
    "    print \"solution\"\n",
    "    print getMaxZ(chromosome), getPercolation(chromosome), total_weight\n",
    "    print answer\n",
    "    print \"\\n\\n\\n\"\n",
    "    f = open(os.getcwd()+'/ANSWERS/'+'answer'+file_, 'wb')\n",
    "    f.write(str(getMaxZ(chromosome)) + ' ' + str(getPercolation(chromosome)) + ' ' + str(total_weight) + '\\n')\n",
    "    answer.to_csv(f,index = False)\n",
    "    f.close()"
   ]
  },
  {
   "cell_type": "code",
   "execution_count": null,
   "metadata": {
    "collapsed": false
   },
   "outputs": [],
   "source": [
    "percolations"
   ]
  },
  {
   "cell_type": "code",
   "execution_count": null,
   "metadata": {
    "collapsed": false
   },
   "outputs": [],
   "source": [
    "average = sum(percolations) / len(percolations)\n",
    "average"
   ]
  }
 ],
 "metadata": {
  "anaconda-cloud": {},
  "kernelspec": {
   "display_name": "Python 2",
   "language": "python",
   "name": "python2"
  },
  "language_info": {
   "codemirror_mode": {
    "name": "ipython",
    "version": 2
   },
   "file_extension": ".py",
   "mimetype": "text/x-python",
   "name": "python",
   "nbconvert_exporter": "python",
   "pygments_lexer": "ipython2",
   "version": "2.7.12"
  }
 },
 "nbformat": 4,
 "nbformat_minor": 2
}
